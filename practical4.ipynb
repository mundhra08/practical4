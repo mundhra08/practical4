{
  "nbformat": 4,
  "nbformat_minor": 0,
  "metadata": {
    "colab": {
      "name": "practical4.ipynb",
      "provenance": [],
      "collapsed_sections": [],
      "authorship_tag": "ABX9TyNlyd8eAWXAsn+PZsjR6hqL",
      "include_colab_link": true
    },
    "kernelspec": {
      "name": "python3",
      "display_name": "Python 3"
    },
    "language_info": {
      "name": "python"
    }
  },
  "cells": [
    {
      "cell_type": "markdown",
      "metadata": {
        "id": "view-in-github",
        "colab_type": "text"
      },
      "source": [
        "<a href=\"https://colab.research.google.com/github/mundhra08/practical4/blob/main/practical4.ipynb\" target=\"_parent\"><img src=\"https://colab.research.google.com/assets/colab-badge.svg\" alt=\"Open In Colab\"/></a>"
      ]
    },
    {
      "cell_type": "code",
      "metadata": {
        "id": "DbPYQc6xj2ef"
      },
      "source": [
        "total = 0\n",
        "while True:\n",
        "    d_w_trans = input()\n",
        "    if d_w_trans == \"\":\n",
        "        break\n",
        "    else:\n",
        "        d_w_trans = d_w_trans.split(\" \")\n",
        "        if d_w_trans[0] == \"D\":\n",
        "            total = total + int(d_w_trans[1])\n",
        "        elif d_w_trans[0] == \"W\":\n",
        "            total = total - int(d_w_trans[1])\n",
        "\n",
        "print(total)"
      ],
      "execution_count": null,
      "outputs": []
    }
  ]
}